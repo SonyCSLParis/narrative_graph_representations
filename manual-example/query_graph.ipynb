{
 "cells": [
  {
   "cell_type": "markdown",
   "metadata": {},
   "source": [
    "# Querying the narrative concepts - Manual Example\n",
    "\n",
    "This notebook provides information on how to query the manually constructed KG for each of the narrative concept identified in the paper."
   ]
  },
  {
   "cell_type": "markdown",
   "metadata": {},
   "source": [
    "## Package Import, Variables, Helpers"
   ]
  },
  {
   "cell_type": "code",
   "execution_count": 1,
   "metadata": {},
   "outputs": [],
   "source": [
    "import os\n",
    "import pandas as pd\n",
    "from rdflib import Graph\n",
    "from settings import FOLDER_PATH\n",
    "from src.kg.queries import *"
   ]
  },
  {
   "cell_type": "code",
   "execution_count": 2,
   "metadata": {},
   "outputs": [],
   "source": [
    "# Format prefixes\n",
    "prefixes = [x[7:] for x in PREFIXES.split(\"\\n\") if x]\n",
    "PREFIX_F = {x.split(\": \")[1].strip()[1:-1]: x.split(\": \")[0] for x in prefixes}\n",
    "\n",
    "def format_uri(uri):\n",
    "    \"\"\" Replace prefixes by abbreviated versions \"\"\"\n",
    "    for prefix, abb in PREFIX_F.items():\n",
    "        uri = uri.replace(prefix, f\"{abb}:\")\n",
    "    return uri"
   ]
  },
  {
   "cell_type": "code",
   "execution_count": 3,
   "metadata": {},
   "outputs": [
    {
     "data": {
      "text/plain": [
       "'KG & ontology contain 2089 triples'"
      ]
     },
     "execution_count": 3,
     "metadata": {},
     "output_type": "execute_result"
    }
   ],
   "source": [
    "# Init graph: KG + ontology\n",
    "GRAPH = Graph()\n",
    "GRAPH.parse(\n",
    "    os.path.join(FOLDER_PATH, \"manual-example\", \n",
    "                 \"dul-coup-18-brumaire-simple-rdf.ttl\"),\n",
    "    format=\"ttl\")\n",
    "GRAPH.parse(\n",
    "    \"http://www.ontologydesignpatterns.org/ont/dul/DUL.owl\",\n",
    "    format='application/rdf+xml')\n",
    "\n",
    "f\"KG & ontology contain {len(list(GRAPH.triples((None, None, None))))} triples\""
   ]
  },
  {
   "cell_type": "code",
   "execution_count": 4,
   "metadata": {},
   "outputs": [],
   "source": [
    "# Helper when querying graph\n",
    "def query_graph_var(query):\n",
    "    \"\"\" SPARQL query + automatically retrieve variable names\"\"\"\n",
    "    res = list(GRAPH.query(query))\n",
    "    var = [var[1:] for var in query.replace(\"DISTINCT \", \"\").split(\" WHERE\")[0] \\\n",
    "        .split(\"SELECT \")[1].split(\" \") if var[1:]]\n",
    "    return res, var\n",
    "\n",
    "def build_df(res, var):\n",
    "    \"\"\" Build df from the output of the query \"\"\"\n",
    "    data = [{v: format_uri(str(triple[i])) for i, v in enumerate(var)} for triple in res]\n",
    "    return pd.DataFrame(data, columns=var)"
   ]
  },
  {
   "cell_type": "markdown",
   "metadata": {},
   "source": [
    "## SPARQL Queries"
   ]
  },
  {
   "cell_type": "markdown",
   "metadata": {},
   "source": [
    "In the `src/kg/queries.py` Python file, you can check the different SPARQL queries related to the different narrative concepts. In the code block below, replace `QUERY_GOAL` by the query you're interested in, and execute the block. You will see the results displayed in a dataframe format."
   ]
  },
  {
   "cell_type": "code",
   "execution_count": 9,
   "metadata": {},
   "outputs": [
    {
     "data": {
      "text/html": [
       "<div>\n",
       "<style scoped>\n",
       "    .dataframe tbody tr th:only-of-type {\n",
       "        vertical-align: middle;\n",
       "    }\n",
       "\n",
       "    .dataframe tbody tr th {\n",
       "        vertical-align: top;\n",
       "    }\n",
       "\n",
       "    .dataframe thead th {\n",
       "        text-align: right;\n",
       "    }\n",
       "</style>\n",
       "<table border=\"1\" class=\"dataframe\">\n",
       "  <thead>\n",
       "    <tr style=\"text-align: right;\">\n",
       "      <th></th>\n",
       "      <th>des</th>\n",
       "      <th>sit</th>\n",
       "      <th>o</th>\n",
       "      <th>node</th>\n",
       "      <th>prop</th>\n",
       "    </tr>\n",
       "  </thead>\n",
       "  <tbody>\n",
       "    <tr>\n",
       "      <th>0</th>\n",
       "      <td>ex:Coup_to_take_power_alone</td>\n",
       "      <td>ex:NapoleonCoup18Brumaire</td>\n",
       "      <td>dbr:Napoleon</td>\n",
       "      <td>ex:PowerUsurper</td>\n",
       "      <td>dul:definesRole</td>\n",
       "    </tr>\n",
       "    <tr>\n",
       "      <th>1</th>\n",
       "      <td>ex:Coup_to_take_power_alone</td>\n",
       "      <td>ex:NapoleonCoup18Brumaire</td>\n",
       "      <td>dbr:Coup_of_18_Brumaire</td>\n",
       "      <td>dbr:Coup_d%27état</td>\n",
       "      <td>dul:definesTask</td>\n",
       "    </tr>\n",
       "  </tbody>\n",
       "</table>\n",
       "</div>"
      ],
      "text/plain": [
       "                           des                        sit  \\\n",
       "0  ex:Coup_to_take_power_alone  ex:NapoleonCoup18Brumaire   \n",
       "1  ex:Coup_to_take_power_alone  ex:NapoleonCoup18Brumaire   \n",
       "\n",
       "                         o               node             prop  \n",
       "0             dbr:Napoleon    ex:PowerUsurper  dul:definesRole  \n",
       "1  dbr:Coup_of_18_Brumaire  dbr:Coup_d%27état  dul:definesTask  "
      ]
     },
     "execution_count": 9,
     "metadata": {},
     "output_type": "execute_result"
    }
   ],
   "source": [
    "res, var = query_graph_var(query=QUERY_GOAL)\n",
    "df = build_df(res, var)\n",
    "df"
   ]
  }
 ],
 "metadata": {
  "kernelspec": {
   "display_name": "narrative_graph_representations",
   "language": "python",
   "name": "python3"
  },
  "language_info": {
   "codemirror_mode": {
    "name": "ipython",
    "version": 3
   },
   "file_extension": ".py",
   "mimetype": "text/x-python",
   "name": "python",
   "nbconvert_exporter": "python",
   "pygments_lexer": "ipython3",
   "version": "3.10.6"
  },
  "orig_nbformat": 4
 },
 "nbformat": 4,
 "nbformat_minor": 2
}
